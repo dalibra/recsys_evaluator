{
 "cells": [
  {
   "cell_type": "code",
   "execution_count": 5,
   "id": "1cd22846-1e72-4da3-bca2-d6ef9555bed0",
   "metadata": {},
   "outputs": [],
   "source": [
    "import numpy as np\n",
    "import pandas as pd\n",
    "from metrics import Evaluator"
   ]
  },
  {
   "cell_type": "markdown",
   "id": "c9116ece-a5b0-41f2-8e40-4a01511d2120",
   "metadata": {},
   "source": [
    "\n",
    "\n",
    "Here is an example of evaluating validation performance of SASRec with CE, trained 4 epoches on data obtained with leave-last-out splitting strategy (one last item is in validation holdout (ground truth) for each user) for ML-1M.\n",
    "\n",
    "**Note:**\n",
    "cases with a fixed multiple number of items in the holdout for each user, cases with a varying number of items in the holdout across users are treated in the same way."
   ]
  },
  {
   "cell_type": "markdown",
   "id": "590d39e0-9c98-4b09-845c-919a2a47c9e4",
   "metadata": {},
   "source": [
    "### Obtain data and model scores"
   ]
  },
  {
   "cell_type": "code",
   "execution_count": 6,
   "id": "0644b71f-fdee-465c-90f0-ee3d211bcc3f",
   "metadata": {},
   "outputs": [],
   "source": [
    "DATA_PATH = 'data_ml-1m/'"
   ]
  },
  {
   "cell_type": "code",
   "execution_count": 7,
   "id": "3b568270-dfc6-4898-9bbe-b30cbd07284d",
   "metadata": {},
   "outputs": [
    {
     "name": "stdout",
     "output_type": "stream",
     "text": [
      "(794764, 4)\n"
     ]
    },
    {
     "data": {
      "text/html": [
       "<div>\n",
       "<style scoped>\n",
       "    .dataframe tbody tr th:only-of-type {\n",
       "        vertical-align: middle;\n",
       "    }\n",
       "\n",
       "    .dataframe tbody tr th {\n",
       "        vertical-align: top;\n",
       "    }\n",
       "\n",
       "    .dataframe thead th {\n",
       "        text-align: right;\n",
       "    }\n",
       "</style>\n",
       "<table border=\"1\" class=\"dataframe\">\n",
       "  <thead>\n",
       "    <tr style=\"text-align: right;\">\n",
       "      <th></th>\n",
       "      <th>userid</th>\n",
       "      <th>itemid</th>\n",
       "      <th>rating</th>\n",
       "      <th>timestamp</th>\n",
       "    </tr>\n",
       "  </thead>\n",
       "  <tbody>\n",
       "    <tr>\n",
       "      <th>0</th>\n",
       "      <td>0</td>\n",
       "      <td>1141</td>\n",
       "      <td>4</td>\n",
       "      <td>975768620</td>\n",
       "    </tr>\n",
       "    <tr>\n",
       "      <th>1</th>\n",
       "      <td>0</td>\n",
       "      <td>3653</td>\n",
       "      <td>4</td>\n",
       "      <td>975768294</td>\n",
       "    </tr>\n",
       "    <tr>\n",
       "      <th>2</th>\n",
       "      <td>0</td>\n",
       "      <td>1160</td>\n",
       "      <td>4</td>\n",
       "      <td>975768106</td>\n",
       "    </tr>\n",
       "    <tr>\n",
       "      <th>3</th>\n",
       "      <td>0</td>\n",
       "      <td>1169</td>\n",
       "      <td>5</td>\n",
       "      <td>975768520</td>\n",
       "    </tr>\n",
       "    <tr>\n",
       "      <th>4</th>\n",
       "      <td>0</td>\n",
       "      <td>1176</td>\n",
       "      <td>4</td>\n",
       "      <td>975768106</td>\n",
       "    </tr>\n",
       "  </tbody>\n",
       "</table>\n",
       "</div>"
      ],
      "text/plain": [
       "   userid  itemid  rating  timestamp\n",
       "0       0    1141       4  975768620\n",
       "1       0    3653       4  975768294\n",
       "2       0    1160       4  975768106\n",
       "3       0    1169       5  975768520\n",
       "4       0    1176       4  975768106"
      ]
     },
     "execution_count": 7,
     "metadata": {},
     "output_type": "execute_result"
    }
   ],
   "source": [
    "# Dataframe with training data (should contain columns: col_user, col_item).\n",
    "training = pd.read_csv(DATA_PATH + 'training.csv')\n",
    "print(training.shape)\n",
    "training.head()"
   ]
  },
  {
   "cell_type": "code",
   "execution_count": 8,
   "id": "7c393063-5757-4f81-8eac-54856929bdd5",
   "metadata": {},
   "outputs": [
    {
     "name": "stdout",
     "output_type": "stream",
     "text": [
      "(793852, 4)\n"
     ]
    },
    {
     "data": {
      "text/html": [
       "<div>\n",
       "<style scoped>\n",
       "    .dataframe tbody tr th:only-of-type {\n",
       "        vertical-align: middle;\n",
       "    }\n",
       "\n",
       "    .dataframe tbody tr th {\n",
       "        vertical-align: top;\n",
       "    }\n",
       "\n",
       "    .dataframe thead th {\n",
       "        text-align: right;\n",
       "    }\n",
       "</style>\n",
       "<table border=\"1\" class=\"dataframe\">\n",
       "  <thead>\n",
       "    <tr style=\"text-align: right;\">\n",
       "      <th></th>\n",
       "      <th>userid</th>\n",
       "      <th>itemid</th>\n",
       "      <th>rating</th>\n",
       "      <th>timestamp</th>\n",
       "    </tr>\n",
       "  </thead>\n",
       "  <tbody>\n",
       "    <tr>\n",
       "      <th>0</th>\n",
       "      <td>0</td>\n",
       "      <td>1141</td>\n",
       "      <td>4</td>\n",
       "      <td>975768620</td>\n",
       "    </tr>\n",
       "    <tr>\n",
       "      <th>1</th>\n",
       "      <td>0</td>\n",
       "      <td>3621</td>\n",
       "      <td>3</td>\n",
       "      <td>975768440</td>\n",
       "    </tr>\n",
       "    <tr>\n",
       "      <th>2</th>\n",
       "      <td>0</td>\n",
       "      <td>3616</td>\n",
       "      <td>4</td>\n",
       "      <td>975768294</td>\n",
       "    </tr>\n",
       "    <tr>\n",
       "      <th>3</th>\n",
       "      <td>0</td>\n",
       "      <td>2722</td>\n",
       "      <td>4</td>\n",
       "      <td>975768707</td>\n",
       "    </tr>\n",
       "    <tr>\n",
       "      <th>4</th>\n",
       "      <td>0</td>\n",
       "      <td>1109</td>\n",
       "      <td>4</td>\n",
       "      <td>975768520</td>\n",
       "    </tr>\n",
       "  </tbody>\n",
       "</table>\n",
       "</div>"
      ],
      "text/plain": [
       "   userid  itemid  rating  timestamp\n",
       "0       0    1141       4  975768620\n",
       "1       0    3621       3  975768440\n",
       "2       0    3616       4  975768294\n",
       "3       0    2722       4  975768707\n",
       "4       0    1109       4  975768520"
      ]
     },
     "execution_count": 8,
     "metadata": {},
     "output_type": "execute_result"
    }
   ],
   "source": [
    "# Dataframe with interaction histories for each holdout user (should contain columns: col_user, col_item). Unique userid should appear in the same order as in scores.\n",
    "history = pd.read_csv(DATA_PATH + 'history.csv')\n",
    "print(history.shape)\n",
    "history.head()"
   ]
  },
  {
   "cell_type": "code",
   "execution_count": 9,
   "id": "c944f4f3-0b64-42ff-8f53-038df0a71086",
   "metadata": {},
   "outputs": [
    {
     "name": "stdout",
     "output_type": "stream",
     "text": [
      "(5396, 4)\n"
     ]
    },
    {
     "data": {
      "text/html": [
       "<div>\n",
       "<style scoped>\n",
       "    .dataframe tbody tr th:only-of-type {\n",
       "        vertical-align: middle;\n",
       "    }\n",
       "\n",
       "    .dataframe tbody tr th {\n",
       "        vertical-align: top;\n",
       "    }\n",
       "\n",
       "    .dataframe thead th {\n",
       "        text-align: right;\n",
       "    }\n",
       "</style>\n",
       "<table border=\"1\" class=\"dataframe\">\n",
       "  <thead>\n",
       "    <tr style=\"text-align: right;\">\n",
       "      <th></th>\n",
       "      <th>userid</th>\n",
       "      <th>itemid</th>\n",
       "      <th>rating</th>\n",
       "      <th>timestamp</th>\n",
       "    </tr>\n",
       "  </thead>\n",
       "  <tbody>\n",
       "    <tr>\n",
       "      <th>0</th>\n",
       "      <td>0</td>\n",
       "      <td>2944</td>\n",
       "      <td>4</td>\n",
       "      <td>975768707</td>\n",
       "    </tr>\n",
       "    <tr>\n",
       "      <th>1</th>\n",
       "      <td>1</td>\n",
       "      <td>1272</td>\n",
       "      <td>4</td>\n",
       "      <td>975753027</td>\n",
       "    </tr>\n",
       "    <tr>\n",
       "      <th>2</th>\n",
       "      <td>2</td>\n",
       "      <td>1260</td>\n",
       "      <td>3</td>\n",
       "      <td>975739614</td>\n",
       "    </tr>\n",
       "    <tr>\n",
       "      <th>3</th>\n",
       "      <td>3</td>\n",
       "      <td>3571</td>\n",
       "      <td>3</td>\n",
       "      <td>975732629</td>\n",
       "    </tr>\n",
       "    <tr>\n",
       "      <th>4</th>\n",
       "      <td>4</td>\n",
       "      <td>2742</td>\n",
       "      <td>3</td>\n",
       "      <td>975729161</td>\n",
       "    </tr>\n",
       "  </tbody>\n",
       "</table>\n",
       "</div>"
      ],
      "text/plain": [
       "   userid  itemid  rating  timestamp\n",
       "0       0    2944       4  975768707\n",
       "1       1    1272       4  975753027\n",
       "2       2    1260       3  975739614\n",
       "3       3    3571       3  975732629\n",
       "4       4    2742       3  975729161"
      ]
     },
     "execution_count": 9,
     "metadata": {},
     "output_type": "execute_result"
    }
   ],
   "source": [
    "# Dataframe with holdout data (should contain columns: col_user, col_item, col_rating).\n",
    "holdout = pd.read_csv(DATA_PATH + 'holdout.csv')\n",
    "print(holdout.shape)\n",
    "holdout.head()"
   ]
  },
  {
   "cell_type": "code",
   "execution_count": 10,
   "id": "9919b99a-359e-4cd8-8851-dc203d4a48c4",
   "metadata": {},
   "outputs": [
    {
     "name": "stdout",
     "output_type": "stream",
     "text": [
      "(5396, 3660)\n"
     ]
    },
    {
     "data": {
      "text/plain": [
       "array([[ 1.591773  ,  0.16419992,  1.3739617 , ...,  0.6172257 ,\n",
       "        -2.5894756 , -2.7629774 ],\n",
       "       [ 0.01049731,  2.5119438 ,  1.3940676 , ..., -0.47033605,\n",
       "        -2.2097208 , -2.289036  ],\n",
       "       [ 2.9477825 , -0.77587265, -1.700124  , ..., -0.35690895,\n",
       "        -3.2802098 , -3.0698538 ],\n",
       "       ...,\n",
       "       [ 3.8560014 , -0.25954992, -0.43528587, ...,  0.24304622,\n",
       "        -4.2127867 , -4.351466  ],\n",
       "       [ 2.4035373 , -1.3335705 , -0.99851793, ...,  1.0821494 ,\n",
       "        -2.481551  , -2.2282383 ],\n",
       "       [ 2.2156248 , -0.59569716, -2.0204065 , ..., -0.99313223,\n",
       "        -2.4140756 , -2.2366862 ]], dtype=float32)"
      ]
     },
     "execution_count": 10,
     "metadata": {},
     "output_type": "execute_result"
    }
   ],
   "source": [
    "# Model (in our case SASRec) scores for each user for each item in the catalog, [n_holdout_users, n_items]\n",
    "scores = np.load(DATA_PATH + 'scores.npy')\n",
    "print(scores.shape)\n",
    "scores"
   ]
  },
  {
   "cell_type": "markdown",
   "id": "e70f0e36-f109-4641-9d91-d2c84e9fd0b0",
   "metadata": {},
   "source": [
    "### Evaluate"
   ]
  },
  {
   "cell_type": "markdown",
   "id": "57cd560b-a22a-4c7a-9d8b-3cf94fbbfea9",
   "metadata": {},
   "source": [
    "By default, Evaluator calculates NDCG, HR and COV, but you can pass to Evaluator the metrics you want from [recommenders](https://microsoft-recommenders.readthedocs.io/en/latest/evaluation.html#module-recommenders.evaluation.python_evaluation). For more details on arguments, check [here](https://github.com/dalibra/recsys_evaluator/blob/main/metrics.py)."
   ]
  },
  {
   "cell_type": "code",
   "execution_count": 11,
   "id": "aec9b5c4-62c1-4ec0-8194-929f614d92b0",
   "metadata": {},
   "outputs": [],
   "source": [
    "evaluator = Evaluator(top_k=[5,10,20])"
   ]
  },
  {
   "cell_type": "markdown",
   "id": "223796ab-6602-44d5-8a94-336e1a1d909e",
   "metadata": {},
   "source": [
    "Downvote the scores of items already seen by users in the past.\n",
    "Makes sense to use it for datasets where items are not repeated within users (e.g., MovieLens)."
   ]
  },
  {
   "cell_type": "code",
   "execution_count": 12,
   "id": "5bab8d5c-be1d-4cb7-8e62-96bf3ba38a2c",
   "metadata": {},
   "outputs": [
    {
     "data": {
      "text/plain": [
       "(5396, 3660)"
      ]
     },
     "execution_count": 12,
     "metadata": {},
     "output_type": "execute_result"
    }
   ],
   "source": [
    "scores_downvoted = evaluator.downvote_seen_items(scores, history)\n",
    "scores_downvoted.shape"
   ]
  },
  {
   "cell_type": "markdown",
   "id": "39c27df9-249c-49e5-849d-5c5950dbb6a5",
   "metadata": {},
   "source": [
    "Get max(top_k) recommendations for each user based on the scores."
   ]
  },
  {
   "cell_type": "code",
   "execution_count": 13,
   "id": "689f33d4-f485-438b-85b8-cb2a9d96c544",
   "metadata": {},
   "outputs": [
    {
     "data": {
      "text/plain": [
       "(5396, 20)"
      ]
     },
     "execution_count": 13,
     "metadata": {},
     "output_type": "execute_result"
    }
   ],
   "source": [
    "recs = evaluator.topk_recommendations(scores_downvoted)\n",
    "recs.shape"
   ]
  },
  {
   "cell_type": "markdown",
   "id": "4f9aa015-7468-4f23-b3a6-23e102b732d2",
   "metadata": {},
   "source": [
    "Calculate metrics. "
   ]
  },
  {
   "cell_type": "code",
   "execution_count": 14,
   "id": "15cba692-6ff2-4d73-9d33-087d6baeadc3",
   "metadata": {},
   "outputs": [
    {
     "data": {
      "text/plain": [
       "{'ndcg@5': 0.043143,\n",
       " 'hr@5': 0.069125,\n",
       " 'ndcg@10': 0.057066,\n",
       " 'hr@10': 0.112305,\n",
       " 'ndcg@20': 0.073271,\n",
       " 'hr@20': 0.176798}"
      ]
     },
     "execution_count": 14,
     "metadata": {},
     "output_type": "execute_result"
    }
   ],
   "source": [
    "metrics = evaluator.compute_metrics(holdout, recs)\n",
    "metrics"
   ]
  },
  {
   "cell_type": "markdown",
   "id": "b5002c80-ff1f-4078-ac82-b6485ec0901a",
   "metadata": {},
   "source": [
    "Pass training set to include diversity metrics."
   ]
  },
  {
   "cell_type": "code",
   "execution_count": 15,
   "id": "e91ae8f0-5917-4631-842e-fcc14820d29b",
   "metadata": {},
   "outputs": [
    {
     "data": {
      "text/plain": [
       "{'ndcg@5': 0.043143,\n",
       " 'hr@5': 0.069125,\n",
       " 'cov@5': 0.109076,\n",
       " 'ndcg@10': 0.057066,\n",
       " 'hr@10': 0.112305,\n",
       " 'cov@10': 0.147348,\n",
       " 'ndcg@20': 0.073271,\n",
       " 'hr@20': 0.176798,\n",
       " 'cov@20': 0.196555}"
      ]
     },
     "execution_count": 15,
     "metadata": {},
     "output_type": "execute_result"
    }
   ],
   "source": [
    "metrics = evaluator.compute_metrics(holdout, recs, training)\n",
    "metrics"
   ]
  },
  {
   "cell_type": "code",
   "execution_count": null,
   "id": "6c6f9403-f620-479f-86f4-a8d728cb83f1",
   "metadata": {},
   "outputs": [],
   "source": []
  }
 ],
 "metadata": {
  "kernelspec": {
   "display_name": "Python 3 (ipykernel)",
   "language": "python",
   "name": "python3"
  },
  "language_info": {
   "codemirror_mode": {
    "name": "ipython",
    "version": 3
   },
   "file_extension": ".py",
   "mimetype": "text/x-python",
   "name": "python",
   "nbconvert_exporter": "python",
   "pygments_lexer": "ipython3",
   "version": "3.10.6"
  }
 },
 "nbformat": 4,
 "nbformat_minor": 5
}
